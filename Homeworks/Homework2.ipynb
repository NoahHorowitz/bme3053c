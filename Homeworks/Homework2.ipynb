{
  "nbformat": 4,
  "nbformat_minor": 0,
  "metadata": {
    "colab": {
      "provenance": [],
      "authorship_tag": "ABX9TyOR97QdSUpMtWJYYlZFKi30",
      "include_colab_link": true
    },
    "kernelspec": {
      "name": "python3",
      "display_name": "Python 3"
    },
    "language_info": {
      "name": "python"
    }
  },
  "cells": [
    {
      "cell_type": "markdown",
      "metadata": {
        "id": "view-in-github",
        "colab_type": "text"
      },
      "source": [
        "<a href=\"https://colab.research.google.com/github/NoahHorowitz/bme3053c/blob/main/Homeworks/Homework2.ipynb\" target=\"_parent\"><img src=\"https://colab.research.google.com/assets/colab-badge.svg\" alt=\"Open In Colab\"/></a>"
      ]
    },
    {
      "cell_type": "code",
      "execution_count": 5,
      "metadata": {
        "colab": {
          "base_uri": "https://localhost:8080/"
        },
        "id": "UEE_ELGlWz21",
        "outputId": "b13a2587-49e1-44c4-faca-ce7abeadd2c8"
      },
      "outputs": [
        {
          "output_type": "stream",
          "name": "stdout",
          "text": [
            "[0.0, 0.32075471698113206, 0.5849056603773585, 0.05660377358490566, 0.7924528301886793, 1.0, 0.1320754716981132, 0.6415094339622641]\n"
          ]
        }
      ],
      "source": [
        "bp_readings = [120, 137, 151, 123, 162, 173, 127, 154]\n",
        "\n",
        "def reading_normalizer(bp_readings):\n",
        "\n",
        "  \"\"\"Sorts through the readings iteratively to find the largest and smallest values\"\"\"\n",
        "  min_value = bp_readings[0]\n",
        "  max_value = bp_readings[0]\n",
        "  for reading in bp_readings:\n",
        "    if min_value > reading:\n",
        "      min_value = reading\n",
        "    if max_value < reading:\n",
        "      max_value = reading\n",
        "\n",
        "  \"\"\"Creates new list, normalized values, with the normalized values\"\"\"\n",
        "  bp_delta = max_value-min_value\n",
        "  normalized_values = list()\n",
        "  for reading in bp_readings:\n",
        "    normalized_values.append((reading-min_value)/bp_delta)\n",
        "\n",
        "  return normalized_values\n",
        "\n",
        "print(reading_normalizer(bp_readings))"
      ]
    }
  ]
}