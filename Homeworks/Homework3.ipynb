{
  "nbformat": 4,
  "nbformat_minor": 0,
  "metadata": {
    "colab": {
      "provenance": [],
      "authorship_tag": "ABX9TyPKPPA/TtrkzzOT7NYcTl+c",
      "include_colab_link": true
    },
    "kernelspec": {
      "name": "python3",
      "display_name": "Python 3"
    },
    "language_info": {
      "name": "python"
    }
  },
  "cells": [
    {
      "cell_type": "markdown",
      "metadata": {
        "id": "view-in-github",
        "colab_type": "text"
      },
      "source": [
        "<a href=\"https://colab.research.google.com/github/NoahHorowitz/bme3053c/blob/main/Homeworks/Homework3.ipynb\" target=\"_parent\"><img src=\"https://colab.research.google.com/assets/colab-badge.svg\" alt=\"Open In Colab\"/></a>"
      ]
    },
    {
      "cell_type": "code",
      "execution_count": 31,
      "metadata": {
        "colab": {
          "base_uri": "https://localhost:8080/"
        },
        "id": "Pqc_riZ-TYae",
        "outputId": "b8cf6504-c0bd-410e-db89-9b9ba22bb0d0"
      },
      "outputs": [
        {
          "output_type": "stream",
          "name": "stdout",
          "text": [
            "34\n"
          ]
        }
      ],
      "source": [
        "import math\n",
        "import random\n",
        "\n",
        "ppg_signal = [1000 + 100 * math.sin(0.1 * x) + random.randint(-20, 20) for x in range(100)]\n",
        "\n",
        "def peak_counter(ppg_signal):\n",
        "  '''For each value, checks whether it is greater than both of its neighbors\n",
        "\n",
        "  Importantly, I assume that the first and last values are never peaks due to not having 2 neighbors\n",
        "  '''\n",
        "  peak_count = 0\n",
        "  for i in range(1,len(ppg_signal)-1):\n",
        "    if ppg_signal[i] > ppg_signal[i - 1] and ppg_signal[i] > ppg_signal[i + 1]:\n",
        "      peak_count += 1\n",
        "\n",
        "  print(peak_count)\n",
        "\n",
        "\n",
        "peak_counter(ppg_signal)"
      ]
    }
  ]
}